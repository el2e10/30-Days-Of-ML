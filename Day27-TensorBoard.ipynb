{
 "cells": [
  {
   "cell_type": "code",
   "execution_count": 5,
   "metadata": {},
   "outputs": [],
   "source": [
    "import os\n",
    "import time\n",
    "import tensorflow as tf\n",
    "import tensorflow.keras as keras\n",
    "from matplotlib import pyplot as plt\n",
    "import numpy as np\n",
    "from sklearn.datasets import fetch_california_housing\n",
    "from sklearn.model_selection import train_test_split\n",
    "from sklearn.preprocessing import StandardScaler"
   ]
  },
  {
   "cell_type": "code",
   "execution_count": 2,
   "metadata": {},
   "outputs": [],
   "source": [
    "root_logdir = os.path.join(os.curdir, \"my_logs\")\n",
    "\n",
    "def get_run_logdir():\n",
    "    run_id = time.strftime(\"run_%Y_%m_%d-%H_%M_%S\")\n",
    "    return os.path.join(root_logdir, run_id)"
   ]
  },
  {
   "cell_type": "code",
   "execution_count": 6,
   "metadata": {},
   "outputs": [],
   "source": [
    "housing = fetch_california_housing()\n",
    "x_train, x_test, y_train, y_test = train_test_split(housing.data, housing.target)\n",
    "scaler = StandardScaler()\n",
    "x_train = scaler.fit_transform(x_train)\n",
    "x_test = scaler.fit_transform(x_test)"
   ]
  },
  {
   "cell_type": "code",
   "execution_count": 10,
   "metadata": {},
   "outputs": [],
   "source": [
    "run_logdir = get_run_logdir()\n",
    "\n",
    "tensorboard_cb = keras.callbacks.TensorBoard(run_logdir)"
   ]
  },
  {
   "cell_type": "code",
   "execution_count": 11,
   "metadata": {},
   "outputs": [
    {
     "name": "stdout",
     "output_type": "stream",
     "text": [
      "Epoch 1/15\n",
      "484/484 [==============================] - 2s 4ms/step - loss: 0.8869 - accuracy: 0.0033\n",
      "Epoch 2/15\n",
      "484/484 [==============================] - 1s 2ms/step - loss: 1.8391 - accuracy: 0.0034\n",
      "Epoch 3/15\n",
      "484/484 [==============================] - 1s 3ms/step - loss: 0.5696 - accuracy: 0.0034\n",
      "Epoch 4/15\n",
      "484/484 [==============================] - 1s 3ms/step - loss: 2.9780 - accuracy: 0.0033\n",
      "Epoch 5/15\n",
      "484/484 [==============================] - 1s 2ms/step - loss: 0.4821 - accuracy: 0.0034\n",
      "Epoch 6/15\n",
      "484/484 [==============================] - 1s 2ms/step - loss: 0.4714 - accuracy: 0.0034\n",
      "Epoch 7/15\n",
      "484/484 [==============================] - 1s 2ms/step - loss: 0.4338 - accuracy: 0.0034\n",
      "Epoch 8/15\n",
      "484/484 [==============================] - 1s 2ms/step - loss: 0.4206 - accuracy: 0.0034\n",
      "Epoch 9/15\n",
      "484/484 [==============================] - 1s 2ms/step - loss: 0.4282 - accuracy: 0.0034\n",
      "Epoch 10/15\n",
      "484/484 [==============================] - 1s 2ms/step - loss: 0.3978 - accuracy: 0.0034\n",
      "Epoch 11/15\n",
      "484/484 [==============================] - 1s 2ms/step - loss: 0.3843 - accuracy: 0.0034\n",
      "Epoch 12/15\n",
      "484/484 [==============================] - 1s 2ms/step - loss: 0.3817 - accuracy: 0.0034\n",
      "Epoch 13/15\n",
      "484/484 [==============================] - 1s 2ms/step - loss: 0.5103 - accuracy: 0.0034\n",
      "Epoch 14/15\n",
      "484/484 [==============================] - 1s 2ms/step - loss: 0.3688 - accuracy: 0.0034\n",
      "Epoch 15/15\n",
      "484/484 [==============================] - 1s 2ms/step - loss: 0.4080 - accuracy: 0.0034\n"
     ]
    }
   ],
   "source": [
    "input = keras.Input(shape=x_train[0].shape[0])\n",
    "dense_1 = keras.layers.Dense(30, activation=\"relu\")(input)\n",
    "dense_2 = keras.layers.Dense(30, activation=\"relu\")(dense_1)\n",
    "concat = keras.layers.Concatenate()([input, dense_2])\n",
    "output = keras.layers.Dense(1)(concat)\n",
    "model = keras.Model(inputs=[input], outputs=[output])\n",
    "\n",
    "model.compile(loss=\"mean_squared_error\",optimizer=\"sgd\", metrics=[\"accuracy\"])\n",
    "history = model.fit(x_train, y_train, epochs=15, callbacks=[tensorboard_cb])"
   ]
  },
  {
   "cell_type": "code",
   "execution_count": null,
   "metadata": {},
   "outputs": [],
   "source": []
  }
 ],
 "metadata": {
  "interpreter": {
   "hash": "b5d4274ebb9180454c804b5ee419348493c013ff5d68b712df2e1ca9accf6ce7"
  },
  "kernelspec": {
   "display_name": "Python 3.8.11 ('ds')",
   "language": "python",
   "name": "python3"
  },
  "language_info": {
   "codemirror_mode": {
    "name": "ipython",
    "version": 3
   },
   "file_extension": ".py",
   "mimetype": "text/x-python",
   "name": "python",
   "nbconvert_exporter": "python",
   "pygments_lexer": "ipython3",
   "version": "3.8.11"
  },
  "orig_nbformat": 4
 },
 "nbformat": 4,
 "nbformat_minor": 2
}
