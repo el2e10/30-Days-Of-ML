{
 "cells": [
  {
   "cell_type": "code",
   "execution_count": 3,
   "metadata": {},
   "outputs": [],
   "source": [
    "import numpy as np\n",
    "import matplotlib.pyplot as plt"
   ]
  },
  {
   "cell_type": "markdown",
   "metadata": {},
   "source": [
    "### Trainng Linear Regression"
   ]
  },
  {
   "cell_type": "markdown",
   "metadata": {},
   "source": [
    "<h5> Closed form solution</h5>"
   ]
  },
  {
   "cell_type": "code",
   "execution_count": 2,
   "metadata": {},
   "outputs": [],
   "source": [
    "x = 2 * np.random.rand(100, 1)\n",
    "y = 4 + 3 * x + np.random.rand(100, 1)"
   ]
  },
  {
   "cell_type": "code",
   "execution_count": 8,
   "metadata": {},
   "outputs": [],
   "source": [
    "# adding bias 1 \n",
    "x_b = np.c_[np.ones((100, 1)), x]\n",
    "#finding the closed solution\n",
    "theta = np.linalg.inv(np.dot(x_b.T, x_b)).dot(x_b.T).dot(y)"
   ]
  },
  {
   "cell_type": "code",
   "execution_count": 9,
   "metadata": {},
   "outputs": [
    {
     "data": {
      "text/plain": [
       "array([[4.52987933],\n",
       "       [3.01890473]])"
      ]
     },
     "execution_count": 9,
     "metadata": {},
     "output_type": "execute_result"
    }
   ],
   "source": [
    "theta"
   ]
  },
  {
   "cell_type": "code",
   "execution_count": 13,
   "metadata": {},
   "outputs": [],
   "source": [
    "predict = theta[0][0] + theta[1][0] * x"
   ]
  },
  {
   "cell_type": "code",
   "execution_count": 14,
   "metadata": {},
   "outputs": [
    {
     "data": {
      "text/plain": [
       "array([[10.20719819],\n",
       "       [ 6.80016871],\n",
       "       [ 9.13252113],\n",
       "       [ 9.93705404],\n",
       "       [ 8.63937283],\n",
       "       [ 4.82299134],\n",
       "       [ 4.89730709],\n",
       "       [ 7.47838269],\n",
       "       [10.44440724],\n",
       "       [ 8.30168349],\n",
       "       [ 6.41968852],\n",
       "       [ 7.64844549],\n",
       "       [ 6.41666042],\n",
       "       [ 5.90553429],\n",
       "       [ 7.06058665],\n",
       "       [ 5.87780697],\n",
       "       [ 7.61214303],\n",
       "       [ 4.78722114],\n",
       "       [ 4.88625346],\n",
       "       [ 7.23825105],\n",
       "       [ 8.88124914],\n",
       "       [ 5.33437944],\n",
       "       [ 5.54764774],\n",
       "       [ 4.95259473],\n",
       "       [ 7.39418848],\n",
       "       [10.215922  ],\n",
       "       [ 5.11511677],\n",
       "       [ 6.58163194],\n",
       "       [10.43973586],\n",
       "       [ 8.04668074],\n",
       "       [10.29064088],\n",
       "       [ 7.97670072],\n",
       "       [ 4.98993193],\n",
       "       [ 4.75265989],\n",
       "       [ 6.87980027],\n",
       "       [ 7.20102956],\n",
       "       [ 7.5125582 ],\n",
       "       [ 8.58991036],\n",
       "       [ 8.90670372],\n",
       "       [ 6.62590378],\n",
       "       [10.28373916],\n",
       "       [ 5.30586112],\n",
       "       [ 9.04792835],\n",
       "       [ 4.67156816],\n",
       "       [10.10197415],\n",
       "       [ 7.47419667],\n",
       "       [ 9.45076352],\n",
       "       [10.30019371],\n",
       "       [ 7.13998455],\n",
       "       [ 7.40308632],\n",
       "       [ 6.88255015],\n",
       "       [10.12226967],\n",
       "       [ 7.14268278],\n",
       "       [ 9.37724089],\n",
       "       [ 9.01104097],\n",
       "       [ 7.13451579],\n",
       "       [ 4.82902681],\n",
       "       [ 8.99007192],\n",
       "       [ 8.57803099],\n",
       "       [ 7.83384675],\n",
       "       [ 5.98327262],\n",
       "       [ 7.17284609],\n",
       "       [ 8.45012545],\n",
       "       [ 8.25835587],\n",
       "       [ 7.26045766],\n",
       "       [ 6.97673884],\n",
       "       [ 5.56508545],\n",
       "       [ 8.31283712],\n",
       "       [ 5.43079691],\n",
       "       [ 4.76610833],\n",
       "       [ 7.1968494 ],\n",
       "       [ 4.97354359],\n",
       "       [ 9.63281868],\n",
       "       [ 9.16506053],\n",
       "       [ 5.39009878],\n",
       "       [ 8.97429083],\n",
       "       [ 8.80464246],\n",
       "       [ 9.00844492],\n",
       "       [ 5.02263072],\n",
       "       [10.01244341],\n",
       "       [ 5.81570553],\n",
       "       [ 8.77429102],\n",
       "       [ 8.09545997],\n",
       "       [ 6.17587346],\n",
       "       [ 8.92575962],\n",
       "       [ 5.75319929],\n",
       "       [ 8.7030341 ],\n",
       "       [ 9.82579863],\n",
       "       [ 8.37858392],\n",
       "       [ 8.71528442],\n",
       "       [ 5.67400902],\n",
       "       [ 6.13660863],\n",
       "       [ 9.11098924],\n",
       "       [ 5.37262185],\n",
       "       [ 6.77897742],\n",
       "       [ 9.56332887],\n",
       "       [ 9.44884956],\n",
       "       [ 8.95600074],\n",
       "       [ 7.01344492],\n",
       "       [ 9.16224899]])"
      ]
     },
     "execution_count": 14,
     "metadata": {},
     "output_type": "execute_result"
    }
   ],
   "source": [
    "predict"
   ]
  },
  {
   "cell_type": "code",
   "execution_count": 19,
   "metadata": {},
   "outputs": [
    {
     "data": {
      "image/png": "[encoded data removed]",
      "text/plain": [
       "<Figure size 432x288 with 1 Axes>"
      ]
     },
     "metadata": {
      "needs_background": "light"
     },
     "output_type": "display_data"
    }
   ],
   "source": [
    "plt.plot(x, y, \"b.\")\n",
    "plt.plot(x, predict, \"r-\")\n",
    "plt.show()"
   ]
  }
 ],
 "metadata": {
  "interpreter": {
   "hash": "b5d4274ebb9180454c804b5ee419348493c013ff5d68b712df2e1ca9accf6ce7"
  },
  "kernelspec": {
   "display_name": "Python 3.8.11 64-bit ('ds': conda)",
   "language": "python",
   "name": "python3"
  },
  "language_info": {
   "codemirror_mode": {
    "name": "ipython",
    "version": 3
   },
   "file_extension": ".py",
   "mimetype": "text/x-python",
   "name": "python",
   "nbconvert_exporter": "python",
   "pygments_lexer": "ipython3",
   "version": "3.8.11"
  },
  "orig_nbformat": 4
 },
 "nbformat": 4,
 "nbformat_minor": 2
}
