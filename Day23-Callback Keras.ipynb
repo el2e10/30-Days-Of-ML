{
  "nbformat": 4,
  "nbformat_minor": 0,
  "metadata": {
    "colab": {
      "name": "Day23-Callback Keras.ipynb",
      "provenance": [],
      "collapsed_sections": []
    },
    "kernelspec": {
      "name": "python3",
      "display_name": "Python 3"
    },
    "language_info": {
      "name": "python"
    }
  },
  "cells": [
    {
      "cell_type": "code",
      "execution_count": 3,
      "metadata": {
        "id": "yFU2GNURupzh"
      },
      "outputs": [],
      "source": [
        "import tensorflow as tf\n",
        "import tensorflow.keras as keras\n",
        "from matplotlib import pyplot as plt\n",
        "import numpy as np\n",
        "from sklearn.datasets import fetch_california_housing\n",
        "from sklearn.model_selection import train_test_split\n",
        "from sklearn.preprocessing import StandardScaler"
      ]
    },
    {
      "cell_type": "code",
      "source": [
        "housing = fetch_california_housing()\n",
        "x_train, x_test, y_train, y_test = train_test_split(housing.data, housing.target)\n",
        "scaler = StandardScaler()\n",
        "x_train = scaler.fit_transform(x_train)\n",
        "x_test = scaler.fit_transform(x_test)"
      ],
      "metadata": {
        "id": "4wr8Ef8wxMwg"
      },
      "execution_count": 4,
      "outputs": []
    },
    {
      "cell_type": "code",
      "source": [
        "early_stop_callback = keras.callbacks.EarlyStopping(patience=2,restore_best_weights=True)\n"
      ],
      "metadata": {
        "id": "4QXdxk3U0r45"
      },
      "execution_count": 5,
      "outputs": []
    },
    {
      "cell_type": "code",
      "source": [
        "input = keras.Input(shape=x_train[0].shape[0])\n",
        "dense_1 = keras.layers.Dense(30, activation=\"relu\")(input)\n",
        "dense_2 = keras.layers.Dense(30, activation=\"relu\")(dense_1)\n",
        "concat = keras.layers.Concatenate()([input, dense_2])\n",
        "output = keras.layers.Dense(1)(concat)\n",
        "model = keras.Model(inputs=[input], outputs=[output])\n",
        "\n",
        "model.compile(loss=\"mean_squared_error\",optimizer=\"sgd\", metrics=[\"accuracy\"])\n",
        "model.fit(x_train, y_train, epochs=100,callbacks=[early_stop_callback],validation_data=(x_test, y_test))"
      ],
      "metadata": {
        "colab": {
          "base_uri": "https://localhost:8080/"
        },
        "id": "CN7HPV3MyOSc",
        "outputId": "c54162cf-73cb-4eb3-b262-3deb8dc4901f"
      },
      "execution_count": 7,
      "outputs": [
        {
          "output_type": "stream",
          "name": "stdout",
          "text": [
            "Epoch 1/100\n",
            "484/484 [==============================] - 3s 4ms/step - loss: 0.7416 - accuracy: 0.0030 - val_loss: 1.1953 - val_accuracy: 0.0029\n",
            "Epoch 2/100\n",
            "484/484 [==============================] - 1s 3ms/step - loss: 1.8714 - accuracy: 0.0028 - val_loss: 30.8542 - val_accuracy: 0.0025\n",
            "Epoch 3/100\n",
            "484/484 [==============================] - 2s 3ms/step - loss: nan - accuracy: 0.0016 - val_loss: nan - val_accuracy: 0.0000e+00\n"
          ]
        },
        {
          "output_type": "execute_result",
          "data": {
            "text/plain": [
              "<keras.callbacks.History at 0x7f85016e0450>"
            ]
          },
          "metadata": {},
          "execution_count": 7
        }
      ]
    },
    {
      "cell_type": "code",
      "source": [
        "model.evaluate(x_test, y_test)"
      ],
      "metadata": {
        "colab": {
          "base_uri": "https://localhost:8080/"
        },
        "id": "zuRd4vKkzaDF",
        "outputId": "c1ea5d16-4736-4951-b4ce-fad5f6e2e032"
      },
      "execution_count": 8,
      "outputs": [
        {
          "output_type": "stream",
          "name": "stdout",
          "text": [
            "162/162 [==============================] - 0s 2ms/step - loss: 1.1953 - accuracy: 0.0029\n"
          ]
        },
        {
          "output_type": "execute_result",
          "data": {
            "text/plain": [
              "[1.1952553987503052, 0.0029069767333567142]"
            ]
          },
          "metadata": {},
          "execution_count": 8
        }
      ]
    },
    {
      "cell_type": "code",
      "source": [
        "#Saving the model\n",
        "model.save(\"california_housing_price_model.h5\")\n",
        "\n",
        "#Loading the model\n",
        "model = keras.models.load_model(\"california_housing_price_model.h5\")"
      ],
      "metadata": {
        "id": "0l0nrMS91Pt_"
      },
      "execution_count": 10,
      "outputs": []
    },
    {
      "cell_type": "code",
      "source": [
        "model.summary()"
      ],
      "metadata": {
        "colab": {
          "base_uri": "https://localhost:8080/"
        },
        "id": "WCJG3GCG1YQl",
        "outputId": "10976a43-699a-4c79-d8e3-3c901db89dbd"
      },
      "execution_count": 11,
      "outputs": [
        {
          "output_type": "stream",
          "name": "stdout",
          "text": [
            "Model: \"model_1\"\n",
            "__________________________________________________________________________________________________\n",
            " Layer (type)                   Output Shape         Param #     Connected to                     \n",
            "==================================================================================================\n",
            " input_2 (InputLayer)           [(None, 8)]          0           []                               \n",
            "                                                                                                  \n",
            " dense_3 (Dense)                (None, 30)           270         ['input_2[0][0]']                \n",
            "                                                                                                  \n",
            " dense_4 (Dense)                (None, 30)           930         ['dense_3[0][0]']                \n",
            "                                                                                                  \n",
            " concatenate_1 (Concatenate)    (None, 38)           0           ['input_2[0][0]',                \n",
            "                                                                  'dense_4[0][0]']                \n",
            "                                                                                                  \n",
            " dense_5 (Dense)                (None, 1)            39          ['concatenate_1[0][0]']          \n",
            "                                                                                                  \n",
            "==================================================================================================\n",
            "Total params: 1,239\n",
            "Trainable params: 1,239\n",
            "Non-trainable params: 0\n",
            "__________________________________________________________________________________________________\n"
          ]
        }
      ]
    }
  ]
}