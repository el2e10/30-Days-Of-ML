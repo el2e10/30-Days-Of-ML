{
  "nbformat": 4,
  "nbformat_minor": 0,
  "metadata": {
    "colab": {
      "name": "Day22-Functional API in Keras.ipynb",
      "provenance": [],
      "collapsed_sections": []
    },
    "kernelspec": {
      "name": "python3",
      "display_name": "Python 3"
    },
    "language_info": {
      "name": "python"
    }
  },
  "cells": [
    {
      "cell_type": "code",
      "execution_count": 1,
      "metadata": {
        "id": "yFU2GNURupzh"
      },
      "outputs": [],
      "source": [
        "import tensorflow as tf\n",
        "import tensorflow.keras as keras\n",
        "from matplotlib import pyplot as plt\n",
        "import numpy as np\n",
        "from sklearn.datasets import fetch_california_housing\n",
        "from sklearn.model_selection import train_test_split\n",
        "from sklearn.preprocessing import StandardScaler"
      ]
    },
    {
      "cell_type": "code",
      "source": [
        "housing = fetch_california_housing()\n",
        "x_train, x_test, y_train, y_test = train_test_split(housing.data, housing.target)\n",
        "scaler = StandardScaler()\n",
        "x_train = scaler.fit_transform(x_train)\n",
        "x_test = scaler.fit_transform(x_test)"
      ],
      "metadata": {
        "id": "4wr8Ef8wxMwg"
      },
      "execution_count": 6,
      "outputs": []
    },
    {
      "cell_type": "code",
      "source": [
        "input = keras.Input(shape=x_train[0].shape[0])\n",
        "dense_1 = keras.layers.Dense(30, activation=\"relu\")(input)\n",
        "dense_2 = keras.layers.Dense(30, activation=\"relu\")(dense_1)\n",
        "concat = keras.layers.Concatenate()([input, dense_2])\n",
        "output = keras.layers.Dense(1)(concat)\n",
        "model = keras.Model(inputs=[input], outputs=[output])\n",
        "\n",
        "model.compile(loss=\"mean_squared_error\",optimizer=\"sgd\", metrics=[\"accuracy\"])\n",
        "model.fit(x_train, y_train, epochs=10)"
      ],
      "metadata": {
        "colab": {
          "base_uri": "https://localhost:8080/"
        },
        "id": "CN7HPV3MyOSc",
        "outputId": "e662a966-b808-44f9-dba6-37349b3079a0"
      },
      "execution_count": 13,
      "outputs": [
        {
          "output_type": "stream",
          "name": "stdout",
          "text": [
            "Epoch 1/10\n",
            "484/484 [==============================] - 2s 2ms/step - loss: 0.7827 - accuracy: 0.0028\n",
            "Epoch 2/10\n",
            "484/484 [==============================] - 1s 2ms/step - loss: 16.4611 - accuracy: 0.0030\n",
            "Epoch 3/10\n",
            "484/484 [==============================] - 1s 2ms/step - loss: 0.6689 - accuracy: 0.0030\n",
            "Epoch 4/10\n",
            "484/484 [==============================] - 1s 2ms/step - loss: 0.4644 - accuracy: 0.0027\n",
            "Epoch 5/10\n",
            "484/484 [==============================] - 1s 2ms/step - loss: 0.4522 - accuracy: 0.0028\n",
            "Epoch 6/10\n",
            "484/484 [==============================] - 1s 2ms/step - loss: 0.3865 - accuracy: 0.0029\n",
            "Epoch 7/10\n",
            "484/484 [==============================] - 1s 2ms/step - loss: 0.3531 - accuracy: 0.0030\n",
            "Epoch 8/10\n",
            "484/484 [==============================] - 1s 2ms/step - loss: 0.3539 - accuracy: 0.0030\n",
            "Epoch 9/10\n",
            "484/484 [==============================] - 1s 2ms/step - loss: 0.5473 - accuracy: 0.0030\n",
            "Epoch 10/10\n",
            "484/484 [==============================] - 1s 2ms/step - loss: 0.3524 - accuracy: 0.0030\n"
          ]
        },
        {
          "output_type": "execute_result",
          "data": {
            "text/plain": [
              "<keras.callbacks.History at 0x7f792bc684d0>"
            ]
          },
          "metadata": {},
          "execution_count": 13
        }
      ]
    },
    {
      "cell_type": "code",
      "source": [
        "model.evaluate(x_test, y_test)"
      ],
      "metadata": {
        "colab": {
          "base_uri": "https://localhost:8080/"
        },
        "id": "zuRd4vKkzaDF",
        "outputId": "e9e3033f-c495-40b0-dd3d-4c2b000aff36"
      },
      "execution_count": 14,
      "outputs": [
        {
          "output_type": "stream",
          "name": "stdout",
          "text": [
            "162/162 [==============================] - 1s 2ms/step - loss: 27.1810 - accuracy: 0.0019\n"
          ]
        },
        {
          "output_type": "execute_result",
          "data": {
            "text/plain": [
              "[27.181041717529297, 0.0019379844889044762]"
            ]
          },
          "metadata": {},
          "execution_count": 14
        }
      ]
    }
  ]
}